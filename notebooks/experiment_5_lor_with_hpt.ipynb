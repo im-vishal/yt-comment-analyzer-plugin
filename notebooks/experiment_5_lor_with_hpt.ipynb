{
 "cells": [
  {
   "cell_type": "code",
   "execution_count": null,
   "metadata": {
    "colab": {
     "base_uri": "https://localhost:8080/"
    },
    "collapsed": true,
    "id": "53Ez7mZ-dHGv",
    "outputId": "a16b4fa5-55e2-45dc-aaa1-8fcf0c7ebaaa"
   },
   "outputs": [],
   "source": [
    "!pip install mlflow boto3 awscli optuna imbalanced-learn"
   ]
  },
  {
   "cell_type": "code",
   "execution_count": 2,
   "metadata": {
    "id": "sFraseI1dHGx"
   },
   "outputs": [],
   "source": [
    "import os\n",
    "import mlflow\n",
    "import warnings\n",
    "\n",
    "warnings.filterwarnings('ignore')"
   ]
  },
  {
   "cell_type": "code",
   "execution_count": 3,
   "metadata": {
    "id": "o4pzxjXtdHGx"
   },
   "outputs": [],
   "source": [
    "# Set up Dagshub credentials for MLflow tracking\n",
    "from google.colab import userdata\n",
    "dagshub_token = userdata.get('DAGSHUB_PAT')\n",
    "\n",
    "os.environ[\"MLFLOW_TRACKING_USERNAME\"] = dagshub_token\n",
    "os.environ[\"MLFLOW_TRACKING_PASSWORD\"] = dagshub_token\n",
    "\n",
    "dagshub_url = \"https://dagshub.com\"\n",
    "repo_owner = 'im-vishal'\n",
    "repo_name = 'yt-comment-analyzer-plugin'\n",
    "\n",
    "# Set up MLflow tracking URI\n",
    "mlflow.set_tracking_uri(f'{dagshub_url}/{repo_owner}/{repo_name}.mlflow')"
   ]
  },
  {
   "cell_type": "code",
   "execution_count": 4,
   "metadata": {
    "colab": {
     "base_uri": "https://localhost:8080/"
    },
    "id": "zatuhuZKdHGy",
    "outputId": "a0212a85-b9e3-48c9-d8f9-b511a78a6f5e"
   },
   "outputs": [
    {
     "data": {
      "text/plain": [
       "<Experiment: artifact_location='mlflow-artifacts:/4a6032b3703843ef84e9963d21718cfc', creation_time=1730837070098, experiment_id='6', last_update_time=1730837070098, lifecycle_stage='active', name='ML Algos with HP Tuning', tags={}>"
      ]
     },
     "execution_count": 4,
     "metadata": {},
     "output_type": "execute_result"
    }
   ],
   "source": [
    "# Set or create an experiment\n",
    "mlflow.set_experiment(\"ML Algos with HP Tuning\")"
   ]
  },
  {
   "cell_type": "code",
   "execution_count": 8,
   "metadata": {
    "id": "9fQiPARXdHGz"
   },
   "outputs": [],
   "source": [
    "import pandas as pd\n",
    "from sklearn.feature_extraction.text import TfidfVectorizer\n",
    "from sklearn.model_selection import train_test_split\n",
    "from sklearn.linear_model import LogisticRegression\n",
    "from sklearn.metrics import accuracy_score, classification_report\n",
    "from sklearn.svm import SVC\n",
    "from imblearn.over_sampling import SMOTE\n",
    "import mlflow\n",
    "import mlflow.sklearn\n",
    "import optuna"
   ]
  },
  {
   "cell_type": "code",
   "execution_count": 6,
   "metadata": {
    "colab": {
     "base_uri": "https://localhost:8080/"
    },
    "id": "ePkjCqFxdHGz",
    "outputId": "857e1d97-788a-48b7-9d89-a21f874576a2"
   },
   "outputs": [
    {
     "data": {
      "text/plain": [
       "(36662, 2)"
      ]
     },
     "execution_count": 6,
     "metadata": {},
     "output_type": "execute_result"
    }
   ],
   "source": [
    "# # reading from s3\n",
    "# df = pd.read_csv('/content/reddit_preprocessing.csv').dropna()\n",
    "# df.shape\n",
    "\n",
    "# reading from local\n",
    "df = pd.read_csv('/content/dataset.csv').dropna()\n",
    "df.shape"
   ]
  },
  {
   "cell_type": "code",
   "execution_count": 9,
   "metadata": {
    "colab": {
     "base_uri": "https://localhost:8080/"
    },
    "id": "R09ggK3DdHGz",
    "outputId": "08ba648e-be12-4d34-f45a-26206d93b3ea"
   },
   "outputs": [
    {
     "name": "stderr",
     "output_type": "stream",
     "text": [
      "[I 2024-11-06 21:56:18,267] A new study created in memory with name: no-name-15aa11fa-298a-4999-a0f4-65eb9720a6bf\n",
      "[I 2024-11-06 21:56:18,484] Trial 0 finished with value: 0.7444514901712111 and parameters: {'C': 0.1680404105822761, 'penalty': 'l2'}. Best is trial 0 with value: 0.7444514901712111.\n",
      "[I 2024-11-06 21:56:18,672] Trial 1 finished with value: 0.7222574508560557 and parameters: {'C': 0.06866299972995864, 'penalty': 'l2'}. Best is trial 0 with value: 0.7444514901712111.\n",
      "[I 2024-11-06 21:56:18,720] Trial 2 finished with value: 0.3333333333333333 and parameters: {'C': 0.0014762531551803192, 'penalty': 'l1'}. Best is trial 0 with value: 0.7444514901712111.\n",
      "[I 2024-11-06 21:56:18,760] Trial 3 finished with value: 0.3333333333333333 and parameters: {'C': 0.0002337741246207743, 'penalty': 'l1'}. Best is trial 0 with value: 0.7444514901712111.\n",
      "[I 2024-11-06 21:56:18,842] Trial 4 finished with value: 0.6186852673853308 and parameters: {'C': 0.02306660369111138, 'penalty': 'l1'}. Best is trial 0 with value: 0.7444514901712111.\n",
      "[I 2024-11-06 21:56:18,971] Trial 5 finished with value: 0.6623335447051364 and parameters: {'C': 0.006313143095013454, 'penalty': 'l2'}. Best is trial 0 with value: 0.7444514901712111.\n",
      "[I 2024-11-06 21:56:19,083] Trial 6 finished with value: 0.6276685690128937 and parameters: {'C': 0.00014916900210949346, 'penalty': 'l2'}. Best is trial 0 with value: 0.7444514901712111.\n",
      "[I 2024-11-06 21:56:19,227] Trial 7 finished with value: 0.6438385119425069 and parameters: {'C': 0.030874957540634563, 'penalty': 'l1'}. Best is trial 0 with value: 0.7444514901712111.\n",
      "[I 2024-11-06 21:56:19,516] Trial 8 finished with value: 0.7791164658634538 and parameters: {'C': 1.4827327044823262, 'penalty': 'l1'}. Best is trial 8 with value: 0.7791164658634538.\n",
      "[I 2024-11-06 21:56:19,659] Trial 9 finished with value: 0.7155992390615092 and parameters: {'C': 0.06615847924424716, 'penalty': 'l1'}. Best is trial 8 with value: 0.7791164658634538.\n",
      "[I 2024-11-06 21:56:19,988] Trial 10 finished with value: 0.7805960684844642 and parameters: {'C': 7.17195795125437, 'penalty': 'l1'}. Best is trial 10 with value: 0.7805960684844642.\n",
      "[I 2024-11-06 21:56:20,343] Trial 11 finished with value: 0.7807017543859649 and parameters: {'C': 8.572347284745856, 'penalty': 'l1'}. Best is trial 11 with value: 0.7807017543859649.\n",
      "[I 2024-11-06 21:56:20,716] Trial 12 finished with value: 0.7807017543859649 and parameters: {'C': 7.874594084060808, 'penalty': 'l1'}. Best is trial 11 with value: 0.7807017543859649.\n",
      "[I 2024-11-06 21:56:21,099] Trial 13 finished with value: 0.7808074402874656 and parameters: {'C': 9.745626917541356, 'penalty': 'l1'}. Best is trial 13 with value: 0.7808074402874656.\n",
      "[I 2024-11-06 21:56:21,410] Trial 14 finished with value: 0.7799619530754597 and parameters: {'C': 0.7514168548092173, 'penalty': 'l1'}. Best is trial 13 with value: 0.7808074402874656.\n",
      "[I 2024-11-06 21:56:21,733] Trial 15 finished with value: 0.7799619530754597 and parameters: {'C': 2.4979535559918147, 'penalty': 'l1'}. Best is trial 13 with value: 0.7808074402874656.\n",
      "[I 2024-11-06 21:56:21,953] Trial 16 finished with value: 0.7733037412809132 and parameters: {'C': 0.3181949176756887, 'penalty': 'l1'}. Best is trial 13 with value: 0.7808074402874656.\n",
      "[I 2024-11-06 21:56:22,200] Trial 17 finished with value: 0.7808074402874656 and parameters: {'C': 8.584814191842748, 'penalty': 'l1'}. Best is trial 13 with value: 0.7808074402874656.\n",
      "[I 2024-11-06 21:56:22,555] Trial 18 finished with value: 0.7674910166983724 and parameters: {'C': 1.6994057116781556, 'penalty': 'l2'}. Best is trial 13 with value: 0.7808074402874656.\n",
      "[I 2024-11-06 21:56:22,723] Trial 19 finished with value: 0.7789050940604524 and parameters: {'C': 0.4870766696005231, 'penalty': 'l1'}. Best is trial 13 with value: 0.7808074402874656.\n",
      "[I 2024-11-06 21:56:22,942] Trial 20 finished with value: 0.7797505812724582 and parameters: {'C': 2.7862621722292324, 'penalty': 'l1'}. Best is trial 13 with value: 0.7808074402874656.\n",
      "[I 2024-11-06 21:56:23,193] Trial 21 finished with value: 0.7808074402874656 and parameters: {'C': 8.624780883213846, 'penalty': 'l1'}. Best is trial 13 with value: 0.7808074402874656.\n",
      "[I 2024-11-06 21:56:23,437] Trial 22 finished with value: 0.7793278376664553 and parameters: {'C': 2.997767367671745, 'penalty': 'l1'}. Best is trial 13 with value: 0.7808074402874656.\n",
      "[I 2024-11-06 21:56:23,666] Trial 23 finished with value: 0.7807017543859649 and parameters: {'C': 9.284121797718354, 'penalty': 'l1'}. Best is trial 13 with value: 0.7808074402874656.\n",
      "[I 2024-11-06 21:56:23,861] Trial 24 finished with value: 0.7792221517649546 and parameters: {'C': 0.8569305901599877, 'penalty': 'l1'}. Best is trial 13 with value: 0.7808074402874656.\n",
      "[I 2024-11-06 21:56:24,097] Trial 25 finished with value: 0.7797505812724582 and parameters: {'C': 4.622344859908714, 'penalty': 'l1'}. Best is trial 13 with value: 0.7808074402874656.\n",
      "[I 2024-11-06 21:56:24,341] Trial 26 finished with value: 0.7482561826252377 and parameters: {'C': 0.22256251845374458, 'penalty': 'l2'}. Best is trial 13 with value: 0.7808074402874656.\n",
      "[I 2024-11-06 21:56:24,537] Trial 27 finished with value: 0.7786937222574508 and parameters: {'C': 1.2973141559322314, 'penalty': 'l1'}. Best is trial 13 with value: 0.7808074402874656.\n",
      "[I 2024-11-06 21:56:24,767] Trial 28 finished with value: 0.779433523567956 and parameters: {'C': 3.5613917040753593, 'penalty': 'l1'}. Best is trial 13 with value: 0.7808074402874656.\n",
      "[I 2024-11-06 21:56:24,867] Trial 29 finished with value: 0.6471147748890298 and parameters: {'C': 0.0009043111017130631, 'penalty': 'l2'}. Best is trial 13 with value: 0.7808074402874656.\n",
      "2024/11/06 21:56:43 WARNING mlflow.models.model: Model logged without a signature and input example. Please set `input_example` parameter when logging the model to auto infer the model signature.\n",
      "2024/11/06 21:56:47 INFO mlflow.tracking._tracking_service.client: 🏃 View run LogisticRegression_SMOTE_TFIDF_Trigrams at: https://dagshub.com/im-vishal/yt-comment-analyzer-plugin.mlflow/#/experiments/6/runs/a6b930ac9ab74980b65ea2c372a7c373.\n",
      "2024/11/06 21:56:47 INFO mlflow.tracking._tracking_service.client: 🧪 View experiment at: https://dagshub.com/im-vishal/yt-comment-analyzer-plugin.mlflow/#/experiments/6.\n"
     ]
    }
   ],
   "source": [
    "# Step 1: (Optional) Remapping - skipped since not strictly needed for Logistic Regression\n",
    "\n",
    "# Step 2: Remove rows where the target labels (category) are NaN\n",
    "df = df.dropna(subset=['category'])\n",
    "\n",
    "# Step 3: TF-IDF vectorizer setup\n",
    "ngram_range = (1, 3)  # Trigram\n",
    "max_features = 1000  # Set max_features to 1000\n",
    "vectorizer = TfidfVectorizer(ngram_range=ngram_range, max_features=max_features)\n",
    "X = vectorizer.fit_transform(df['clean_comment'])\n",
    "y = df['category']\n",
    "\n",
    "# Step 4: Apply SMOTE to handle class imbalance\n",
    "smote = SMOTE(random_state=42)\n",
    "X_resampled, y_resampled = smote.fit_resample(X, y)\n",
    "\n",
    "# Step 5: Train-test split\n",
    "X_train, X_test, y_train, y_test = train_test_split(X_resampled, y_resampled, test_size=0.2, random_state=42, stratify=y_resampled)\n",
    "\n",
    "# Function to log results in MLflow\n",
    "def log_mlflow(model_name, model, X_train, X_test, y_train, y_test):\n",
    "    with mlflow.start_run():\n",
    "        # Log model type\n",
    "        mlflow.set_tag(\"mlflow.runName\", f\"{model_name}_SMOTE_TFIDF_Trigrams\")\n",
    "        mlflow.set_tag(\"experiment_type\", \"algorithm_comparison\")\n",
    "\n",
    "        # Log algorithm name as a parameter\n",
    "        mlflow.log_param(\"algo_name\", model_name)\n",
    "\n",
    "        # Train model\n",
    "        model.fit(X_train, y_train)\n",
    "        y_pred = model.predict(X_test)\n",
    "\n",
    "        # Log accuracy\n",
    "        accuracy = accuracy_score(y_test, y_pred)\n",
    "        mlflow.log_metric(\"accuracy\", accuracy)\n",
    "\n",
    "        # Log classification report\n",
    "        classification_rep = classification_report(y_test, y_pred, output_dict=True)\n",
    "        for label, metrics in classification_rep.items():\n",
    "            if isinstance(metrics, dict):\n",
    "                for metric, value in metrics.items():\n",
    "                    mlflow.log_metric(f\"{label}_{metric}\", value)\n",
    "\n",
    "        # Log the model\n",
    "        mlflow.sklearn.log_model(model, f\"{model_name}_model\")\n",
    "\n",
    "\n",
    "# Step 6: Optuna objective function for Logistic Regression\n",
    "def objective_logreg(trial):\n",
    "    C = trial.suggest_float('C', 1e-4, 10.0, log=True)\n",
    "    penalty = trial.suggest_categorical('penalty', ['l1', 'l2'])\n",
    "\n",
    "    # LogisticRegression model setup with balanced class weight\n",
    "    model = LogisticRegression(C=C, penalty=penalty, solver='liblinear', random_state=42)\n",
    "    return accuracy_score(y_test, model.fit(X_train, y_train).predict(X_test))\n",
    "\n",
    "\n",
    "# Step 7: Run Optuna for Logistic Regression, log the best model only\n",
    "def run_optuna_experiment():\n",
    "    study = optuna.create_study(direction=\"maximize\")\n",
    "    study.optimize(objective_logreg, n_trials=30)\n",
    "\n",
    "    # Get the best parameters and log only the best model\n",
    "    best_params = study.best_params\n",
    "    best_model = LogisticRegression(C=best_params['C'], penalty=best_params['penalty'], solver='liblinear', random_state=42)\n",
    "\n",
    "    # Log the best model with MLflow, passing the algo_name as \"LogisticRegression\"\n",
    "    log_mlflow(\"LogisticRegression\", best_model, X_train, X_test, y_train, y_test)\n",
    "\n",
    "# Run the experiment for Logistic Regression\n",
    "run_optuna_experiment()"
   ]
  },
  {
   "cell_type": "code",
   "execution_count": null,
   "metadata": {
    "id": "w_-x6wOoeTsg"
   },
   "outputs": [],
   "source": []
  }
 ],
 "metadata": {
  "accelerator": "GPU",
  "colab": {
   "gpuType": "T4",
   "provenance": []
  },
  "kernelspec": {
   "display_name": "Python 3",
   "name": "python3"
  },
  "language_info": {
   "codemirror_mode": {
    "name": "ipython",
    "version": 3
   },
   "file_extension": ".py",
   "mimetype": "text/x-python",
   "name": "python",
   "nbconvert_exporter": "python",
   "pygments_lexer": "ipython3",
   "version": "3.10.15"
  }
 },
 "nbformat": 4,
 "nbformat_minor": 0
}
