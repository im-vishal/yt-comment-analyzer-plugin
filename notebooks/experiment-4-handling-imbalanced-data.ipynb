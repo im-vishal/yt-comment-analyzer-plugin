{
 "cells": [
  {
   "cell_type": "code",
   "execution_count": 4,
   "metadata": {},
   "outputs": [],
   "source": [
    "# !aws configure*"
   ]
  },
  {
   "cell_type": "code",
   "execution_count": 5,
   "metadata": {},
   "outputs": [],
   "source": [
    "import os\n",
    "import mlflow\n",
    "import warnings\n",
    "\n",
    "warnings.filterwarnings('ignore')"
   ]
  },
  {
   "cell_type": "code",
   "execution_count": 6,
   "metadata": {},
   "outputs": [],
   "source": [
    "# Set up Dagshub credentials for MLflow tracking\n",
    "dagshub_token = os.getenv('DAGSHUB_PAT')\n",
    "if not dagshub_token:\n",
    "    raise EnvironmentError(\"DAGSHUB_PAT environment variable is not set\")\n",
    "\n",
    "os.environ[\"MLFLOW_TRACKING_USERNAME\"] = dagshub_token\n",
    "os.environ[\"MLFLOW_TRACKING_PASSWORD\"] = dagshub_token\n",
    "\n",
    "dagshub_url = \"https://dagshub.com\"\n",
    "repo_owner = 'im-vishal'\n",
    "repo_name = 'yt-comment-analyzer-plugin'\n",
    "\n",
    "# Set up MLflow tracking URI\n",
    "mlflow.set_tracking_uri(f'{dagshub_url}/{repo_owner}/{repo_name}.mlflow')"
   ]
  },
  {
   "cell_type": "code",
   "execution_count": 7,
   "metadata": {},
   "outputs": [
    {
     "data": {
      "text/plain": [
       "<Experiment: artifact_location='mlflow-artifacts:/98bd12e9dc0742f9918f60a3b1ad76ba', creation_time=1730739062916, experiment_id='4', last_update_time=1730739062916, lifecycle_stage='active', name='Exp 4 - Handling Imbalanced Data', tags={}>"
      ]
     },
     "execution_count": 7,
     "metadata": {},
     "output_type": "execute_result"
    }
   ],
   "source": [
    "# Set or create an experiment\n",
    "mlflow.set_experiment(\"Exp 4 - Handling Imbalanced Data\")"
   ]
  },
  {
   "cell_type": "code",
   "execution_count": 8,
   "metadata": {},
   "outputs": [],
   "source": [
    "from imblearn.over_sampling import SMOTE, ADASYN\n",
    "from imblearn.under_sampling import RandomUnderSampler\n",
    "from imblearn.combine import SMOTEENN\n",
    "from sklearn.feature_extraction.text import TfidfVectorizer\n",
    "from sklearn.ensemble import RandomForestClassifier\n",
    "from sklearn.model_selection import train_test_split\n",
    "from sklearn.metrics import accuracy_score, classification_report, confusion_matrix\n",
    "import mlflow\n",
    "import mlflow.sklearn\n",
    "import matplotlib.pyplot as plt\n",
    "import seaborn as sns\n",
    "import pandas as pd\n",
    "import os"
   ]
  },
  {
   "cell_type": "code",
   "execution_count": 9,
   "metadata": {},
   "outputs": [
    {
     "data": {
      "text/plain": [
       "(36662, 2)"
      ]
     },
     "execution_count": 9,
     "metadata": {},
     "output_type": "execute_result"
    }
   ],
   "source": [
    "# # reading from s3\n",
    "# df = pd.read_csv('/content/reddit_preprocessing.csv').dropna(subset=['clean_comment'])\n",
    "# df.shape\n",
    "\n",
    "# reading from local\n",
    "df = pd.read_csv('dataset.csv').dropna(subset=['clean_comment'])\n",
    "df.shape"
   ]
  },
  {
   "cell_type": "code",
   "execution_count": 10,
   "metadata": {},
   "outputs": [
    {
     "name": "stderr",
     "output_type": "stream",
     "text": [
      "2024/11/05 19:41:49 WARNING mlflow.models.model: Model logged without a signature and input example. Please set `input_example` parameter when logging the model to auto infer the model signature.\n",
      "2024/11/05 19:41:56 INFO mlflow.tracking._tracking_service.client: 🏃 View run Imbalance_class_weights_RandomForest_TFIDF_Trigrams at: https://dagshub.com/im-vishal/yt-comment-analyzer-plugin.mlflow/#/experiments/4/runs/ef495f1a01c0447fbdde821820b0bf46.\n",
      "2024/11/05 19:41:56 INFO mlflow.tracking._tracking_service.client: 🧪 View experiment at: https://dagshub.com/im-vishal/yt-comment-analyzer-plugin.mlflow/#/experiments/4.\n",
      "2024/11/05 19:42:30 WARNING mlflow.models.model: Model logged without a signature and input example. Please set `input_example` parameter when logging the model to auto infer the model signature.\n",
      "2024/11/05 19:42:37 INFO mlflow.tracking._tracking_service.client: 🏃 View run Imbalance_oversampling_RandomForest_TFIDF_Trigrams at: https://dagshub.com/im-vishal/yt-comment-analyzer-plugin.mlflow/#/experiments/4/runs/db8fa75866a844ccb8a1ec838a5eb1ae.\n",
      "2024/11/05 19:42:37 INFO mlflow.tracking._tracking_service.client: 🧪 View experiment at: https://dagshub.com/im-vishal/yt-comment-analyzer-plugin.mlflow/#/experiments/4.\n",
      "2024/11/05 19:43:16 WARNING mlflow.models.model: Model logged without a signature and input example. Please set `input_example` parameter when logging the model to auto infer the model signature.\n",
      "2024/11/05 19:43:23 INFO mlflow.tracking._tracking_service.client: 🏃 View run Imbalance_adasyn_RandomForest_TFIDF_Trigrams at: https://dagshub.com/im-vishal/yt-comment-analyzer-plugin.mlflow/#/experiments/4/runs/39e8f85756bd46479e03d8010799b528.\n",
      "2024/11/05 19:43:23 INFO mlflow.tracking._tracking_service.client: 🧪 View experiment at: https://dagshub.com/im-vishal/yt-comment-analyzer-plugin.mlflow/#/experiments/4.\n",
      "2024/11/05 19:43:59 WARNING mlflow.models.model: Model logged without a signature and input example. Please set `input_example` parameter when logging the model to auto infer the model signature.\n",
      "2024/11/05 19:44:03 INFO mlflow.tracking._tracking_service.client: 🏃 View run Imbalance_undersampling_RandomForest_TFIDF_Trigrams at: https://dagshub.com/im-vishal/yt-comment-analyzer-plugin.mlflow/#/experiments/4/runs/6010d6de161d445194968d8e40fdd6b6.\n",
      "2024/11/05 19:44:03 INFO mlflow.tracking._tracking_service.client: 🧪 View experiment at: https://dagshub.com/im-vishal/yt-comment-analyzer-plugin.mlflow/#/experiments/4.\n",
      "2024/11/05 19:44:56 WARNING mlflow.models.model: Model logged without a signature and input example. Please set `input_example` parameter when logging the model to auto infer the model signature.\n",
      "2024/11/05 19:45:02 INFO mlflow.tracking._tracking_service.client: 🏃 View run Imbalance_smote_enn_RandomForest_TFIDF_Trigrams at: https://dagshub.com/im-vishal/yt-comment-analyzer-plugin.mlflow/#/experiments/4/runs/ad325649b63049a2945776e3066a1a78.\n",
      "2024/11/05 19:45:02 INFO mlflow.tracking._tracking_service.client: 🧪 View experiment at: https://dagshub.com/im-vishal/yt-comment-analyzer-plugin.mlflow/#/experiments/4.\n"
     ]
    }
   ],
   "source": [
    "# Step 1: Function to run the experiment\n",
    "def run_imbalanced_experiment(imbalance_method):\n",
    "    ngram_range = (1, 3)  # Trigram setting\n",
    "    max_features = 10000  # Set max_features to 1000 for TF-IDF\n",
    "\n",
    "    # Step 4: Train-test split before vectorization and resampling\n",
    "    X_train, X_test, y_train, y_test = train_test_split(df['clean_comment'], df['category'], test_size=0.2, random_state=42, stratify=df['category'])\n",
    "\n",
    "    # Step 2: Vectorization using TF-IDF, fit on training data only\n",
    "    vectorizer = TfidfVectorizer(ngram_range=ngram_range, max_features=max_features)\n",
    "    X_train_vec = vectorizer.fit_transform(X_train)  # Fit on training data\n",
    "    X_test_vec = vectorizer.transform(X_test)  # Transform test data\n",
    "\n",
    "    # Step 3: Handle class imbalance based on the selected method (only applied to the training set)\n",
    "    if imbalance_method == 'class_weights':\n",
    "        # Use class_weight in Random Forest\n",
    "        class_weight = 'balanced'\n",
    "    else:\n",
    "        class_weight = None  # Do not apply class_weight if using resampling\n",
    "\n",
    "        # Resampling Techniques (only apply to the training set)\n",
    "        if imbalance_method == 'oversampling':\n",
    "            smote = SMOTE(random_state=42)\n",
    "            X_train_vec, y_train = smote.fit_resample(X_train_vec, y_train)\n",
    "        elif imbalance_method == 'adasyn':\n",
    "            adasyn = ADASYN(random_state=42)\n",
    "            X_train_vec, y_train = adasyn.fit_resample(X_train_vec, y_train)\n",
    "        elif imbalance_method == 'undersampling':\n",
    "            rus = RandomUnderSampler(random_state=42)\n",
    "            X_train_vec, y_train = rus.fit_resample(X_train_vec, y_train)\n",
    "        elif imbalance_method == 'smote_enn':\n",
    "            smote_enn = SMOTEENN(random_state=42)\n",
    "            X_train_vec, y_train = smote_enn.fit_resample(X_train_vec, y_train)\n",
    "\n",
    "    # Step 5: Define and train a Random Forest model\n",
    "    with mlflow.start_run() as run:\n",
    "        # Set tags for the experiment and run\n",
    "        mlflow.set_tag(\"mlflow.runName\", f\"Imbalance_{imbalance_method}_RandomForest_TFIDF_Trigrams\")\n",
    "        mlflow.set_tag(\"experiment_type\", \"imbalance_handling\")\n",
    "        mlflow.set_tag(\"model_type\", \"RandomForestClassifier\")\n",
    "\n",
    "        # Add a description\n",
    "        mlflow.set_tag(\"description\", f\"RandomForest with TF-IDF Trigrams, imbalance handling method={imbalance_method}\")\n",
    "\n",
    "        # Log vectorizer parameters\n",
    "        mlflow.log_param(\"vectorizer_type\", \"TF-IDF\")\n",
    "        mlflow.log_param(\"ngram_range\", ngram_range)\n",
    "        mlflow.log_param(\"vectorizer_max_features\", max_features)\n",
    "\n",
    "        # Log Random Forest parameters\n",
    "        n_estimators = 200\n",
    "        max_depth = 15\n",
    "\n",
    "        mlflow.log_param(\"n_estimators\", n_estimators)\n",
    "        mlflow.log_param(\"max_depth\", max_depth)\n",
    "        mlflow.log_param(\"imbalance_method\", imbalance_method)\n",
    "\n",
    "        # Initialize and train the model\n",
    "        model = RandomForestClassifier(n_estimators=n_estimators, max_depth=max_depth, random_state=42, class_weight=class_weight)\n",
    "        model.fit(X_train_vec, y_train)\n",
    "\n",
    "        # Step 6: Make predictions and log metrics\n",
    "        y_pred = model.predict(X_test_vec)\n",
    "\n",
    "        # Log accuracy\n",
    "        accuracy = accuracy_score(y_test, y_pred)\n",
    "        mlflow.log_metric(\"accuracy\", accuracy)\n",
    "\n",
    "        # Log classification report\n",
    "        classification_rep = classification_report(y_test, y_pred, output_dict=True)\n",
    "        for label, metrics in classification_rep.items():\n",
    "            if isinstance(metrics, dict):\n",
    "                for metric, value in metrics.items():\n",
    "                    mlflow.log_metric(f\"{label}_{metric}\", value)\n",
    "\n",
    "        # Log confusion matrix\n",
    "        conf_matrix = confusion_matrix(y_test, y_pred)\n",
    "        plt.figure(figsize=(8, 6))\n",
    "        sns.heatmap(conf_matrix, annot=True, fmt=\"d\", cmap=\"Blues\")\n",
    "        plt.xlabel(\"Predicted\")\n",
    "        plt.ylabel(\"Actual\")\n",
    "        plt.title(f\"Confusion Matrix: TF-IDF Trigrams, Imbalance={imbalance_method}\")\n",
    "        confusion_matrix_filename = f\"confusion_matrix_{imbalance_method}.png\"\n",
    "        plt.savefig(confusion_matrix_filename)\n",
    "        mlflow.log_artifact(confusion_matrix_filename)\n",
    "        plt.close()\n",
    "\n",
    "        # Log the model\n",
    "        mlflow.sklearn.log_model(model, f\"random_forest_model_tfidf_trigrams_imbalance_{imbalance_method}\")\n",
    "\n",
    "# Step 7: Run experiments for different imbalance methods\n",
    "imbalance_methods = ['class_weights', 'oversampling', 'adasyn', 'undersampling', 'smote_enn']\n",
    "\n",
    "for method in imbalance_methods:\n",
    "    run_imbalanced_experiment(method)\n"
   ]
  },
  {
   "cell_type": "code",
   "execution_count": null,
   "metadata": {},
   "outputs": [],
   "source": []
  }
 ],
 "metadata": {
  "kernelspec": {
   "display_name": "Python 3",
   "language": "python",
   "name": "python3"
  },
  "language_info": {
   "codemirror_mode": {
    "name": "ipython",
    "version": 3
   },
   "file_extension": ".py",
   "mimetype": "text/x-python",
   "name": "python",
   "nbconvert_exporter": "python",
   "pygments_lexer": "ipython3",
   "version": "3.10.15"
  }
 },
 "nbformat": 4,
 "nbformat_minor": 2
}
